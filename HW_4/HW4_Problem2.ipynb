{
  "nbformat": 4,
  "nbformat_minor": 0,
  "metadata": {
    "colab": {
      "name": "HW4_Problem2.ipynb",
      "provenance": [],
      "authorship_tag": "ABX9TyM+3JQzc0uA46GwAggr1jiO",
      "include_colab_link": true
    },
    "kernelspec": {
      "name": "python3",
      "display_name": "Python 3"
    }
  },
  "cells": [
    {
      "cell_type": "markdown",
      "metadata": {
        "id": "view-in-github",
        "colab_type": "text"
      },
      "source": [
        "<a href=\"https://colab.research.google.com/github/DaDamola/AI-Learning/blob/master/HW4_Problem2.ipynb\" target=\"_parent\"><img src=\"https://colab.research.google.com/assets/colab-badge.svg\" alt=\"Open In Colab\"/></a>"
      ]
    },
    {
      "cell_type": "code",
      "metadata": {
        "id": "WZ_0ygzGBtfQ",
        "colab_type": "code",
        "outputId": "a4283cdd-6751-41ab-d8b8-d73ec8e30017",
        "colab": {
          "base_uri": "https://localhost:8080/",
          "height": 134
        }
      },
      "source": [
        "import numpy as np \n",
        "import skimage.measure\n",
        "\n",
        "class SizeError(Exception): #raised when the window size is larger than input \n",
        "  pass\n",
        "\n",
        "def maxpooling2d(input_mat, s):\n",
        "  x, y = input_mat.shape #get input dimensions\n",
        "  pad, stride = 0, s\n",
        "\n",
        "  try:\n",
        "    if (x != y): #check when the input is square\n",
        "      raise ValueError\n",
        "    \n",
        "    if s > x: #check when window size is larger than input\n",
        "      raise SizeError\n",
        "    \n",
        "    #calculate rows and columns for output\n",
        "    x = (x - s + 2 * pad) // stride + 1 \n",
        "    y = (y - s + 2 * pad) // stride + 1 \n",
        "\n",
        "    res = np.zeros((x,y)) \n",
        "    xoffset, yoffset = 0, 0\n",
        "\n",
        "    #do max pooling \n",
        "    for row in range(x):\n",
        "        yoffset = 0\n",
        "        for col in range(y): \n",
        "          res[row][col] = np.max(input_mat[row+xoffset:row + s+xoffset, col+yoffset:col + s+yoffset]) \n",
        "          yoffset += 1\n",
        "        xoffset += 1\n",
        "        \n",
        "         \n",
        "\n",
        " \n",
        "    return res\n",
        "  except ValueError:\n",
        "    print(\"Input matrix must be a square.\")\n",
        "  except SizeError:\n",
        "    print(\"Window size cannot be larger than input matrix.\")\n",
        "\n",
        "\n",
        "mat1 = np.array([[0,1,2,3,4],[5,6,7,8,9],[0,1,2,3,4],[5,6,7,8,9],[0,1,2,3,4]]) #5x5 matrix\n",
        "mat2 = np.array([[0,1,2,3,4],[5,6,7,8,9],[0,1,2,3,4],[5,6,7,8,9]]) #4x5 matrix\n",
        "mat3 = np.array([[1,2,3,4,5],[1,2,3,4,5],[1,2,3,4,5],[1,2,3,4,5],[1,2,3,4,5]])\n",
        "ma = np.array([[2,3],[0,1]])\n",
        "\n",
        "input_mat = []\n",
        "expected_mat = []\n",
        "s = []\n",
        "input_mat.append(np.array([[1, 2, 1, 2],\n",
        "                      [2, 4, 2, 1],\n",
        "                      [1, 2, 4, 2],\n",
        "                      [2, 1, 2, 1]]))\n",
        "s.append(2)\n",
        "\n",
        "expected_mat.append(np.array([[4, 2],\n",
        "                                [2, 4]]))\n",
        "\n",
        "\n",
        "input_mat.append(np.array([[1, 2, 1, 2, 4, 5],\n",
        "                      [2, 4, 2, 1, 0, 3],\n",
        "                      [1, 2, 4, 2, 4, 5],\n",
        "                      [2, 1, 2, 1, 2, 1],\n",
        "                      [1, 1, 2, 3, 1, 2],\n",
        "                      [1, 1, 2, 3, 1, 2]]))\n",
        "s.append(2)\n",
        "\n",
        "expected_mat.append([[4, 2, 5],\n",
        " [2, 4, 5],\n",
        " [1, 3, 2]])\n",
        "\n",
        "\n",
        "for i in range(len(input_mat)):\n",
        "  # uncomment top line and comment second line to test code\n",
        "  output_mat = maxpooling2d(input_mat[i], s[i])\n",
        "  #output_mat = skimage.measure.block_reduce(input_mat[i], (s[i],s[i]), np.max)\n",
        "\n",
        "  print(output_mat)\n",
        "\n",
        "  if np.array_equal(output_mat, expected_mat[i]):\n",
        "    print(\"Correct output!\")\n",
        "  else:\n",
        "    print(\"Incorrect output!\")\n",
        "\n",
        "\n",
        "\n",
        "\n"
      ],
      "execution_count": 0,
      "outputs": [
        {
          "output_type": "stream",
          "text": [
            "[[4. 2.]\n",
            " [2. 4.]]\n",
            "Correct output!\n",
            "[[4. 2. 5.]\n",
            " [2. 4. 5.]\n",
            " [1. 3. 2.]]\n",
            "Correct output!\n"
          ],
          "name": "stdout"
        }
      ]
    },
    {
      "cell_type": "markdown",
      "metadata": {
        "id": "RV3cQw_El8y4",
        "colab_type": "text"
      },
      "source": [
        "**Program Description:** This program accepts a square matrix and a window size, then performs the max pooling operation and returns a resultant matrix, otherwise it raises an exception."
      ]
    }
  ]
}
