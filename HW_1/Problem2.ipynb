{
  "nbformat": 4,
  "nbformat_minor": 0,
  "metadata": {
    "colab": {
      "name": "Problem2.ipynb",
      "provenance": [],
      "collapsed_sections": [],
      "authorship_tag": "ABX9TyPQtIXLBY9h/yeEoKMlfyKO",
      "include_colab_link": true
    },
    "kernelspec": {
      "name": "python3",
      "display_name": "Python 3"
    }
  },
  "cells": [
    {
      "cell_type": "markdown",
      "metadata": {
        "id": "view-in-github",
        "colab_type": "text"
      },
      "source": [
        "<a href=\"https://colab.research.google.com/github/DaDamola/AI-Learning/blob/master/Problem2.ipynb\" target=\"_parent\"><img src=\"https://colab.research.google.com/assets/colab-badge.svg\" alt=\"Open In Colab\"/></a>"
      ]
    },
    {
      "cell_type": "code",
      "metadata": {
        "id": "JjGuMFZe4b95",
        "colab_type": "code",
        "outputId": "401be93a-a4b8-4c32-9392-6194fbc8b415",
        "colab": {
          "base_uri": "https://localhost:8080/",
          "height": 84
        }
      },
      "source": [
        "import numpy as np\n",
        "\n",
        "class DimensionError(Exception): # Raised when there is a dimension mismatch for consecutive matrices \n",
        "  pass\n",
        "  \n",
        "def multiply_matrices(ls):\n",
        "  (row,col) = ls[0].shape\n",
        "  result = np.ones([row,col])\n",
        "\n",
        "  try:\n",
        "    for i in ls:\n",
        "      (x,y) = i.shape\n",
        "      (row,col) = result.shape\n",
        "\n",
        "      if y != row:\n",
        "        raise DimensionError \n",
        "\n",
        "      result = np.matmul(i,result)\n",
        "    \n",
        "    return result\n",
        "  except DimensionError:\n",
        "    print(i, \" does not match the dimensions of: \", result)\n",
        "\n",
        "lst = [np.array([[1,0],[3,2]]),np.array([[7,8],[1,2],[1,1]])]\n",
        "multiply_matrices(lst)  \n",
        "lst = [np.array([[1,0],[3,2]]),np.array([[7,8],[1,2],[1,1]]),np.array([[7,2],[1,-3]])]\n",
        "multiply_matrices(lst)\n",
        "    \n",
        "\n"
      ],
      "execution_count": 0,
      "outputs": [
        {
          "output_type": "stream",
          "text": [
            "[[ 7  2]\n",
            " [ 1 -3]]  does not match the dimensions of:  [[47. 47.]\n",
            " [11. 11.]\n",
            " [ 6.  6.]]\n"
          ],
          "name": "stdout"
        }
      ]
    },
    {
      "cell_type": "markdown",
      "metadata": {
        "id": "hFHpqKYF33iO",
        "colab_type": "text"
      },
      "source": [
        "**Problem Description:** Implement a function that takes a list of numpy arrays and outputs their product, raise a custom exception if there is a pair of incompatible matrices. The exception message should provide information about \n",
        "which pair of matrices is bad."
      ]
    },
    {
      "cell_type": "markdown",
      "metadata": {
        "id": "YzQudz1Q5rvX",
        "colab_type": "text"
      },
      "source": [
        "$\\prod_1^n$[$M_1$, $M_2$ ... $M_n$]  = $M_r$\n",
        "\n",
        "Where A and B are consecutive matrices in the list.\n",
        "\n",
        "$A^n$$\\epsilon$ R where n = a $\\times$ b \n",
        "\n",
        "$B^m$$\\epsilon$ R where m = x $\\times$ y\n",
        "\n",
        "x = b in order for matrices, A and B to be compatible for matrix multiplication.\n",
        "\n",
        "\n"
      ]
    },
    {
      "cell_type": "markdown",
      "metadata": {
        "id": "BFkWq2g7_gSH",
        "colab_type": "text"
      },
      "source": [
        "**Program Description:** This program accepts a list of matrices, multiplies all of them and returns a resultant matrix if possible, otherwise it raises an exception. "
      ]
    }
  ]
}
