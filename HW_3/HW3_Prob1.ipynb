{
  "nbformat": 4,
  "nbformat_minor": 0,
  "metadata": {
    "colab": {
      "name": "HW3_Prob1.ipynb",
      "provenance": [],
      "authorship_tag": "ABX9TyOEXNr15kZTd402hRlH+63e",
      "include_colab_link": true
    },
    "kernelspec": {
      "name": "python3",
      "display_name": "Python 3"
    }
  },
  "cells": [
    {
      "cell_type": "markdown",
      "metadata": {
        "id": "view-in-github",
        "colab_type": "text"
      },
      "source": [
        "<a href=\"https://colab.research.google.com/github/DaDamola/AI-Learning/blob/master/HW3_Prob1.ipynb\" target=\"_parent\"><img src=\"https://colab.research.google.com/assets/colab-badge.svg\" alt=\"Open In Colab\"/></a>"
      ]
    },
    {
      "cell_type": "code",
      "metadata": {
        "id": "MuOhW3sxbn3P",
        "colab_type": "code",
        "colab": {
          "base_uri": "https://localhost:8080/",
          "height": 753
        },
        "outputId": "faea5c13-25ef-484c-9855-4bac6a97b7d7"
      },
      "source": [
        "import numpy as np\n",
        "%matplotlib inline\n",
        "import matplotlib as mpl\n",
        "import matplotlib.pyplot as plt\n",
        "import random\n",
        "%tensorflow_version 2.x\n",
        "from tensorflow.keras import models\n",
        "from tensorflow.keras import layers\n",
        "\n",
        "# w - weight, b - bias, mu - mean, sigma - standard deviation, m - size\n",
        "def get_random_data(w, b, mu, sigma, m):\n",
        "  data = np.empty((0, 2))\n",
        "  labels = np.empty((0, 1))\n",
        "\n",
        "  c = .5\n",
        "  for i in range(m):  \n",
        "    x1 = np.random.uniform(0,1)\n",
        "    n = sigma * np.random.randn() + mu\n",
        "    x2 = w * x1 + b + (-1) ** c * n\n",
        "    data = np.append(data, [[x1, x2]], axis = 0)\n",
        "\n",
        "    prob = random.randint(0, 1)\n",
        "    c = 0 if prob == 0 else 1\n",
        "    labels = np.append(labels, [[c]], axis = 0)\n",
        "    \n",
        "  return data, labels\n",
        "  \n",
        "def display_random_data(data, labels):\n",
        "  \n",
        "  for i in range(m):\n",
        "    if labels[i] == 0:\n",
        "      plt.scatter(data[i][0], data[i][1], c='blue')\n",
        "    else:\n",
        "      plt.scatter(data[i][0], data[i][1], c='red')\n",
        "\n",
        "  plt.xlabel('x1')\n",
        "  plt.ylabel('x2')\n",
        "  plt.show()\n",
        "\n",
        "w = .4\n",
        "b = .3\n",
        "mu = 0\n",
        "sigma = .1\n",
        "m = 100\n",
        "\n",
        "data, labels = get_random_data(w, b, mu, sigma, m)\n",
        "display_random_data(data, labels)\n",
        "\n",
        "train_xs = data[:80,0]\n",
        "train_ys = data[:80,1]\n",
        "test_xs = data[80:,0]\n",
        "test_ys = data[80:,1]\n",
        "\n",
        "print(train_xs.shape)\n",
        "print(train_ys.shape)\n",
        "\n",
        "network = models.Sequential()\n",
        "network.add(layers.Dense(1, input_shape=(80,1)))\n",
        "network.compile(optimizer='sgd', loss='binary_crossentropy', metrics=['mse'])\n",
        "network.fit(train_xs, train_ys, epochs=10, batch_size=8)\n",
        "\n",
        "'''\n",
        "test_loss, test_acc = network.evaluate(test_xs, test_ys)\n",
        "pred_ys = network.predict(test_xs)\n",
        "plt.plot(test_xs, test_ys, \"b.\")'''\n",
        "\n",
        "\n",
        "'''\n",
        "\n",
        "plt.xlabel(\"$x_1$\", fontsize=18)\n",
        "plt.ylabel(\"$y$\", rotation=0, fontsize=18)\n",
        "plt.axis([0, 2, 0, 15])\n",
        "plt.show()'''"
      ],
      "execution_count": 294,
      "outputs": [
        {
          "output_type": "stream",
          "text": [
            "/usr/local/lib/python3.6/dist-packages/numpy/core/_asarray.py:138: ComplexWarning: Casting complex values to real discards the imaginary part\n",
            "  return array(a, dtype, copy=False, order=order, subok=True)\n"
          ],
          "name": "stderr"
        },
        {
          "output_type": "display_data",
          "data": {
            "image/png": "[encoded data removed]",
            "text/plain": [
              "<Figure size 432x288 with 1 Axes>"
            ]
          },
          "metadata": {
            "tags": [],
            "needs_background": "light"
          }
        },
        {
          "output_type": "stream",
          "text": [
            "(80,)\n",
            "(80,)\n",
            "Epoch 1/10\n",
            "WARNING:tensorflow:Model was constructed with shape (None, 80, 1) for input Tensor(\"dense_33_input:0\", shape=(None, 80, 1), dtype=float32), but it was called on an input with incompatible shape (8, 1, 1).\n",
            "WARNING:tensorflow:Model was constructed with shape (None, 80, 1) for input Tensor(\"dense_33_input:0\", shape=(None, 80, 1), dtype=float32), but it was called on an input with incompatible shape (8, 1, 1).\n",
            "10/10 [==============================] - 0s 1ms/step - loss: 2.0094 - mse: 0.1019\n",
            "Epoch 2/10\n",
            "10/10 [==============================] - 0s 2ms/step - loss: 1.6780 - mse: 0.0786\n",
            "Epoch 3/10\n",
            "10/10 [==============================] - 0s 1ms/step - loss: 1.2230 - mse: 0.0572\n",
            "Epoch 4/10\n",
            "10/10 [==============================] - 0s 1ms/step - loss: 0.9428 - mse: 0.0485\n",
            "Epoch 5/10\n",
            "10/10 [==============================] - 0s 1ms/step - loss: 0.8078 - mse: 0.0411\n",
            "Epoch 6/10\n",
            "10/10 [==============================] - 0s 1ms/step - loss: 0.7446 - mse: 0.0352\n",
            "Epoch 7/10\n",
            "10/10 [==============================] - 0s 1ms/step - loss: 0.7326 - mse: 0.0317\n",
            "Epoch 8/10\n",
            "10/10 [==============================] - 0s 1ms/step - loss: 0.7230 - mse: 0.0295\n",
            "Epoch 9/10\n",
            "10/10 [==============================] - 0s 1ms/step - loss: 0.7164 - mse: 0.0277\n",
            "Epoch 10/10\n",
            "10/10 [==============================] - 0s 1ms/step - loss: 0.7091 - mse: 0.0257\n"
          ],
          "name": "stdout"
        },
        {
          "output_type": "execute_result",
          "data": {
            "text/plain": [
              "'\\n\\nplt.xlabel(\"$x_1$\", fontsize=18)\\nplt.ylabel(\"$y$\", rotation=0, fontsize=18)\\nplt.axis([0, 2, 0, 15])\\nplt.show()'"
            ]
          },
          "metadata": {
            "tags": []
          },
          "execution_count": 294
        }
      ]
    }
  ]
}
