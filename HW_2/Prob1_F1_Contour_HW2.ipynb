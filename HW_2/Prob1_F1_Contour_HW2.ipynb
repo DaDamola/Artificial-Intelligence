{
  "nbformat": 4,
  "nbformat_minor": 0,
  "metadata": {
    "colab": {
      "name": "Prob1_F1_Contour_HW2.ipynb",
      "provenance": [],
      "authorship_tag": "ABX9TyMMbkQw1QQNXEXzJ+jm4Thv",
      "include_colab_link": true
    },
    "kernelspec": {
      "name": "python3",
      "display_name": "Python 3"
    }
  },
  "cells": [
    {
      "cell_type": "markdown",
      "metadata": {
        "id": "view-in-github",
        "colab_type": "text"
      },
      "source": [
        "<a href=\"https://colab.research.google.com/github/DaDamola/AI-Learning/blob/master/Prob1_F1_Contour_HW2.ipynb\" target=\"_parent\"><img src=\"https://colab.research.google.com/assets/colab-badge.svg\" alt=\"Open In Colab\"/></a>"
      ]
    },
    {
      "cell_type": "markdown",
      "metadata": {
        "id": "ByKk-_ZjPbtE",
        "colab_type": "text"
      },
      "source": [
        "Cited Sources: https://colab.research.google.com/drive/1pcvtvK6jITbp1Sf2nD2uEaDGpwUOA3IL"
      ]
    },
    {
      "cell_type": "code",
      "metadata": {
        "id": "iJL_9-FC8JuT",
        "colab_type": "code",
        "outputId": "bd4a7f13-78bc-4d1d-e01f-1294d5b65320",
        "colab": {
          "base_uri": "https://localhost:8080/",
          "height": 282
        }
      },
      "source": [
        "%matplotlib inline\n",
        "import numpy as np\n",
        "import matplotlib.pyplot as plt\n",
        "  \n",
        "#displays a pyramid\n",
        "def f1(x, y):\n",
        "    return 1 - abs(x + y) - abs(y - x)\n",
        "\n",
        "#start and end values for the axises, number of samples on graph (x and y are vectors)\n",
        "x = np.linspace(-50, 50, 50) \n",
        "y = np.linspace(-50, 50, 40)\n",
        "\n",
        "X, Y = np.meshgrid(x, y) #build 2d grids (matrices) from 1d vectors\n",
        "Z = f1(X, Y) #X and Y are coordinates, Z is contour levels (matrix) #X and Y are coordinates, Z is contour levels (matrix) \n",
        "\n",
        "#plot graph\n",
        "plt.contourf(X, Y, Z, 20, cmap='RdGy');\n",
        "\n",
        "#find z point\n",
        "p1Z = Z.min()\n",
        "\n",
        "#find z point's index \n",
        "res = np.where(Z == p1Z)\n",
        "coords = list(zip(res[0], res[1]))\n",
        "\n",
        "row = coords[0][0]\n",
        "col = coords[0][1]\n",
        "\n",
        "#retrieve x and y from the same index \n",
        "p1X = X[row][col]\n",
        "p1Y = Y[row][col]\n",
        "\n",
        "plt.plot(p1X, p1Y,'ro') #plot point\n",
        "plt.text(p1X, p1Y, \"p1\", fontsize=12) #label point \n",
        "\n"
      ],
      "execution_count": 0,
      "outputs": [
        {
          "output_type": "execute_result",
          "data": {
            "text/plain": [
              "Text(-50.0, -50.0, 'p1')"
            ]
          },
          "metadata": {
            "tags": []
          },
          "execution_count": 1
        },
        {
          "output_type": "display_data",
          "data": {
            "image/png": "[encoded data removed]",
            "text/plain": [
              "<Figure size 432x288 with 1 Axes>"
            ]
          },
          "metadata": {
            "tags": [],
            "needs_background": "light"
          }
        }
      ]
    }
  ]
}
