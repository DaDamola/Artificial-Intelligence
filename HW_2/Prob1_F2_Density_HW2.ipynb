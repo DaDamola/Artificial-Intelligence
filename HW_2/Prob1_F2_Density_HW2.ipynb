{
  "nbformat": 4,
  "nbformat_minor": 0,
  "metadata": {
    "colab": {
      "name": "Prob1_F2_Density_HW2.ipynb",
      "provenance": [],
      "collapsed_sections": [],
      "authorship_tag": "ABX9TyNpvjuUR/HYvb/uHhlpKgLr",
      "include_colab_link": true
    },
    "kernelspec": {
      "name": "python3",
      "display_name": "Python 3"
    }
  },
  "cells": [
    {
      "cell_type": "markdown",
      "metadata": {
        "id": "view-in-github",
        "colab_type": "text"
      },
      "source": [
        "<a href=\"https://colab.research.google.com/github/DaDamola/AI-Learning/blob/master/Prob1_F2_Density_HW2.ipynb\" target=\"_parent\"><img src=\"https://colab.research.google.com/assets/colab-badge.svg\" alt=\"Open In Colab\"/></a>"
      ]
    },
    {
      "cell_type": "code",
      "metadata": {
        "id": "nDvjgC8b5SwD",
        "colab_type": "code",
        "outputId": "c31de757-87d7-463d-aebd-c404fd32fff2",
        "colab": {
          "base_uri": "https://localhost:8080/",
          "height": 286
        }
      },
      "source": [
        "%matplotlib inline\n",
        "import numpy as np\n",
        "import matplotlib.pyplot as plt\n",
        "  \n",
        "def f2(x, y):\n",
        "    return 1 - (x ** 2 + y ** 2)\n",
        "\n",
        "#start and end values for the axises, number of samples on graph (x and y are vectors)\n",
        "x = np.linspace(-50, 50, 50) \n",
        "y = np.linspace(-50, 50, 40)\n",
        "\n",
        "X, Y = np.meshgrid(x, y) #build 2d grids (matrices) from 1d vectors\n",
        "Z = f2(X, Y) #X and Y are coordinates, Z is contour levels (matrix) \n",
        "\n",
        "#plot graph \n",
        "plt.contourf(X, Y, Z, 20, cmap='RdGy') #gray regions are peaks, red regions are valleys\n",
        "plt.colorbar(); #add density bar\n",
        "\n",
        "#find z point\n",
        "p2Z = Z.max()\n",
        "\n",
        "#find z point's index \n",
        "res = np.where(Z == p2Z)\n",
        "coords = list(zip(res[0], res[1]))\n",
        "\n",
        "row = coords[0][0]\n",
        "col = coords[0][1]\n",
        "\n",
        "#retrieve x and y from the same index \n",
        "p2X = X[row][col]\n",
        "p2Y = Y[row][col]\n",
        "\n",
        "plt.plot(p2X, p2Y,'ro') #plot point\n",
        "plt.text(p2X, p2Y, \"p2\", fontsize=12) #label point\n",
        "\n",
        "\n",
        "\n",
        "\n"
      ],
      "execution_count": 0,
      "outputs": [
        {
          "output_type": "execute_result",
          "data": {
            "text/plain": [
              "Text(-1.0204081632653015, -1.2820512820512775, 'p2')"
            ]
          },
          "metadata": {
            "tags": []
          },
          "execution_count": 1
        },
        {
          "output_type": "display_data",
          "data": {
            "image/png": "[encoded data removed]",
            "text/plain": [
              "<Figure size 432x288 with 2 Axes>"
            ]
          },
          "metadata": {
            "tags": [],
            "needs_background": "light"
          }
        }
      ]
    }
  ]
}
