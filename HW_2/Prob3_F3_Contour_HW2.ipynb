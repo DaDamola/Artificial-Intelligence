{
  "nbformat": 4,
  "nbformat_minor": 0,
  "metadata": {
    "colab": {
      "name": "Prob3_F3_Contour_HW2.ipynb",
      "provenance": [],
      "authorship_tag": "ABX9TyMZPI8boEmrVsP5F5xZQwt0",
      "include_colab_link": true
    },
    "kernelspec": {
      "name": "python3",
      "display_name": "Python 3"
    }
  },
  "cells": [
    {
      "cell_type": "markdown",
      "metadata": {
        "id": "view-in-github",
        "colab_type": "text"
      },
      "source": [
        "<a href=\"https://colab.research.google.com/github/DaDamola/AI-Learning/blob/master/Prob3_F3_Contour_HW2.ipynb\" target=\"_parent\"><img src=\"https://colab.research.google.com/assets/colab-badge.svg\" alt=\"Open In Colab\"/></a>"
      ]
    },
    {
      "cell_type": "markdown",
      "metadata": {
        "id": "TB2l05CCPP6v",
        "colab_type": "text"
      },
      "source": [
        "Cited Sources: https://colab.research.google.com/drive/1pcvtvK6jITbp1Sf2nD2uEaDGpwUOA3IL"
      ]
    },
    {
      "cell_type": "code",
      "metadata": {
        "id": "MMIQqu3B-yaE",
        "colab_type": "code",
        "outputId": "97ab0865-6259-4776-e8cc-6b858fd46d3d",
        "colab": {
          "base_uri": "https://localhost:8080/",
          "height": 282
        }
      },
      "source": [
        "%matplotlib inline\n",
        "import numpy as np\n",
        "import matplotlib.pyplot as plt\n",
        "\n",
        "def f3(x, y):\n",
        "    return abs(x + y) - abs(y - x)\n",
        "\n",
        "#start and end values for the axises, number of samples on graph (x and y are vectors)\n",
        "x = np.linspace(-50, 50, 50) \n",
        "y = np.linspace(-50, 50, 40)\n",
        "\n",
        "X, Y = np.meshgrid(x, y) #build 2d grids (matrices) from 1d vectors\n",
        "Z = f3(X, Y) #X and Y are coordinates, Z is contour levels (matrix)\n",
        "\n",
        "#plot graph \n",
        "plt.contourf(X, Y, Z, 20, cmap='RdGy') \n",
        "\n",
        "grad = np.gradient(Z) \n",
        "res, coords = (), []\n",
        "\n",
        "for narr in grad:\n",
        "  if 0 in narr:\n",
        "   res = np.where(narr == 0)\n",
        "   coords = list(zip(res[0], res[1]))\n",
        "   break\n",
        "\n",
        "row = coords[0][0]\n",
        "col = coords[0][1]\n",
        "\n",
        "p3X = X[row][col]\n",
        "p3Y = Y[row][col]\n",
        "\n",
        "plt.plot(p3X, p3Y,'ro') #plot point\n",
        "plt.text(p3X, p3Y, \"p3\", fontsize=12) #label point\n",
        "\n",
        "\n",
        "\n",
        "\n"
      ],
      "execution_count": 0,
      "outputs": [
        {
          "output_type": "execute_result",
          "data": {
            "text/plain": [
              "Text(-43.87755102040816, -50.0, 'p3')"
            ]
          },
          "metadata": {
            "tags": []
          },
          "execution_count": 44
        },
        {
          "output_type": "display_data",
          "data": {
            "image/png": "[encoded data removed]",
            "text/plain": [
              "<Figure size 432x288 with 1 Axes>"
            ]
          },
          "metadata": {
            "tags": [],
            "needs_background": "light"
          }
        }
      ]
    }
  ]
}
